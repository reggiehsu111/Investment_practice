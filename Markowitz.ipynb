{
 "cells": [
  {
   "cell_type": "code",
   "execution_count": 1,
   "metadata": {
    "collapsed": true
   },
   "outputs": [],
   "source": [
    "%matplotlib inline\n",
    "import scipy.optimize as sco\n",
    "import math\n",
    "import pandas as pd\n",
    "import numpy as np\n",
    "import matplotlib.pyplot as plt\n",
    "\n"
   ]
  },
  {
   "cell_type": "code",
   "execution_count": 2,
   "metadata": {
    "collapsed": true
   },
   "outputs": [],
   "source": [
    "with open('returns.txt','r',encoding = 'utf-16') as f:\n",
    "    string = f.read()\n",
    "string.encode('utf-8').decode('utf-8')\n",
    "\n",
    "with open('mb64.txt','r',encoding = 'utf-16') as fmb64:\n",
    "    string1 = fmb64.read()\n",
    "string1.encode('utf-8').decode('utf-8')\n",
    "string1 = string1.replace('\\t',',')\n",
    "string = string.replace('\\t',',')\n",
    "\n",
    "with open('mb64.csv','w',encoding = 'utf-8') as fmb641:\n",
    "    fmb641.write(string1)\n",
    "\n",
    "with open('returns1.csv','w',encoding = 'utf-8') as f1:\n",
    "    f1.write(string)"
   ]
  },
  {
   "cell_type": "code",
   "execution_count": 3,
   "metadata": {
    "collapsed": true
   },
   "outputs": [],
   "source": [
    "# Create a table \"excess_return\" by subtacting mb64 from returnstable\n",
    "def get_excess_return():\n",
    "    mb64 = pd.read_csv(\"mb64.csv\")\n",
    "    mb64.columns = ['dates','mb64']\n",
    "    del mb64['dates']\n",
    "    mb64 = mb64.apply(pd.to_numeric, errors = 'coerce')\n",
    "    mb64 = mb64/12\n",
    "\n",
    "    returnstable = pd.read_csv(\"returns1.csv\") \n",
    "    returnstable = returnstable.join(mb64)\n",
    "\n",
    "    returnstable = returnstable.drop(returnstable.index[0])\n",
    "    returnstable.rename(columns=lambda x: x[0:4], inplace=True)\n",
    "    returnstable.set_index('Unna', inplace=True)\n",
    "\n",
    "    returnstable.rename(index=lambda x:x.split('/')[0]+'-'+x.split('/')[1], inplace=True)\n",
    "    returnstable = returnstable.apply(pd.to_numeric, errors = 'coerce')\n",
    "\n",
    "    excess_return = returnstable.subtract(returnstable['mb64'], axis=0)/100\n",
    "    del excess_return['mb64']\n",
    "    del returnstable\n",
    "    return excess_return"
   ]
  },
  {
   "cell_type": "code",
   "execution_count": 4,
   "metadata": {
    "collapsed": true
   },
   "outputs": [],
   "source": [
    "#input format: list[,,,], string,string\n",
    "def Insert_request_data():\n",
    "    comp_str = input(\"Input required companies:\")\n",
    "    company = comp_str.split(',')\n",
    "    from_date = input(\"Input From date:\")\n",
    "    to_date = input(\"Input To date:\")\n",
    "    return company, from_date, to_date\n",
    "\n",
    "#companies,from_date,to_date = Insert_request_data()\n",
    "\n",
    "\n",
    "#should create a function of parsing input companies and dates into list\n",
    "def find_company_returns(companies,from_date,to_date):\n",
    "    excess_return = get_excess_return()\n",
    "    df = excess_return[companies].loc[from_date:to_date]\n",
    "    del excess_return\n",
    "    return df\n",
    "\n",
    "companies = ['1201','1460','2010','2330','2489','2608','2889','3514','5522','9904']\n",
    "from_date='2010-1'\n",
    "to_date='2014-12'\n",
    "#assign the numbers of companies to the variable num_of_coms\n",
    "num_of_coms = len(companies)\n",
    "company_returns = find_company_returns(companies,from_date,to_date)"
   ]
  },
  {
   "cell_type": "code",
   "execution_count": 5,
   "metadata": {
    "collapsed": true,
    "scrolled": true
   },
   "outputs": [],
   "source": [
    "#build the Markowitz table\n",
    "\n",
    "#input forecasted excess return\n",
    "\"\"\"raw_FER = input(\"Input forecasted excess return:\")\n",
    "FER = list(raw_FER.split(',')[:])\n",
    "FER = list(map(float, FER))\n",
    "print(FER)\"\"\"\n",
    "\n",
    "#preset forecasted excess return (development use)\n",
    "FER = [0.03,0.08,0.09,0.1,0.15,0.06,0.12,0.05,0.09,0.06]\n",
    "FER_Ser = pd.Series(FER)\n",
    "\n",
    "def create_random_weights():\n",
    "    weights = np.random.random(num_of_coms)\n",
    "    weights /= np.sum(weights)\n",
    "    weights = pd.Series(weights,index=companies)\n",
    "    return weights\n",
    "\n",
    "Markowitz = company_returns.cov()*12\n",
    "\n",
    "\n",
    "#Create companies_SD\n",
    "companies_SD = np.zeros((len(companies)))\n",
    "for i in range(len(companies)):\n",
    "    companies_SD[i] = np.sqrt(Markowitz.iloc[i][i])\n",
    "#print(companies_SD)\n",
    "\n",
    "#Store FER_Ser in comapnies_MEAN\n",
    "companies_MEAN = FER_Ser\n",
    "\n",
    "\n",
    "def assign_random_weight(weights):\n",
    "    #x = Markowitz.mul(weights, axis=0).sum()\n",
    "    #x = x.mul(weights, axis=0)\n",
    "    SD = np.sqrt(np.dot(weights.T,np.dot(Markowitz,weights)))\n",
    "    Mean = weights.mul(FER,axis=0).sum()\n",
    "    #SD = math.sqrt(x.sum())\n",
    "    Slope = Mean/SD\n",
    "    return Mean,SD,Slope\n",
    "\n",
    "#Mean,SD,Slope = assign_random_weight(weights)\n",
    "#print(Mean,SD,Slope)\n"
   ]
  },
  {
   "cell_type": "code",
   "execution_count": 6,
   "metadata": {
    "scrolled": true
   },
   "outputs": [
    {
     "data": {
      "text/plain": [
       "'plt.figure(figsize=(8,4))\\nplt.scatter(all_SD_points,all_Mean_points, c = all_Slope_points, marker=\"o\")\\nplt.grid(True)\\nplt.xlabel(\"SD\")\\nplt.ylabel(\"Mean\")\\nplt.ylim([0, 0.2])\\nplt.xlim([0, 0.3])\\nplt.colorbar(label=\"Sharpe ratio\")'"
      ]
     },
     "execution_count": 6,
     "metadata": {},
     "output_type": "execute_result"
    }
   ],
   "source": [
    "#create points of portfolios\n",
    "all_Mean_points=[]\n",
    "all_SD_points=[]\n",
    "all_Slope_points=[]\n",
    "for p in range(4000):\n",
    "    weights = create_random_weights()\n",
    "    Mean,SD,Slope = assign_random_weight(weights)\n",
    "    all_Mean_points.append(Mean)\n",
    "    all_SD_points.append(SD)\n",
    "    all_Slope_points.append(Slope)\n",
    "\n",
    "all_Mean_points=pd.Series(all_Mean_points)\n",
    "all_SD_points=pd.Series(all_SD_points)\n",
    "all_Slope_points=pd.Series(all_Slope_points)\n",
    "\n",
    "\n",
    "#data = pd.concat([all_Mean_points,all_SD_points],axis=1)\n",
    "#print(data)\n",
    "\"\"\"plt.figure(figsize=(8,4))\n",
    "plt.scatter(all_SD_points,all_Mean_points, c = all_Slope_points, marker=\"o\")\n",
    "plt.grid(True)\n",
    "plt.xlabel(\"SD\")\n",
    "plt.ylabel(\"Mean\")\n",
    "plt.ylim([0, 0.2])\n",
    "plt.xlim([0, 0.3])\n",
    "plt.colorbar(label=\"Sharpe ratio\")\"\"\"\n"
   ]
  },
  {
   "cell_type": "markdown",
   "metadata": {
    "collapsed": true
   },
   "source": []
  },
  {
   "cell_type": "code",
   "execution_count": 7,
   "metadata": {},
   "outputs": [
    {
     "name": "stdout",
     "output_type": "stream",
     "text": [
      "None\n",
      "((0, 1), (0, 1), (0, 1), (0, 1), (0, 1), (0, 1), (0, 1), (0, 1), (0, 1), (0, 1))\n",
      "[  1.05363332e-01   1.20520835e-01   8.74233338e-01   0.00000000e+00\n",
      "   4.53672552e-17   1.17864844e-01   4.26356037e-01   1.71015852e-01\n",
      "   1.24767294e-01   1.52727975e-01   3.07122353e-17   7.26799876e-03\n",
      "   0.00000000e+00]\n"
     ]
    }
   ],
   "source": [
    "def statistics(weight):\n",
    "    weight = np.array(weight)\n",
    "    Mean = np.sum(weight*FER)\n",
    "    x = Markowitz.mul(weight, axis=0).sum()\n",
    "    x = x.mul(weight, axis=0)\n",
    "    SD = math.sqrt(x.sum())\n",
    "    #print(SD)\n",
    "    #SD = np.sqrt(np.dot(weight.T, np.dot(Markowitz,weights)))\n",
    "    Sharpe_ratio = Mean/SD\n",
    "    return np.array([Mean,SD,Sharpe_ratio])\n",
    "\n",
    "#Find the optimal point with max Sharpe Ratio\n",
    "def min_sharpe(weight):\n",
    "    return -statistics(weight)[2]\n",
    "\n",
    "#Store datapoints stats\n",
    "def store_data(data):\n",
    "    arr = np.array(list(statistics(data['x']))+list(data['x']))\n",
    "    return arr\n",
    "\n",
    "#test_weights = np.array([0.0000,0.0000,0.1183,0.4262,0.1710,0.1246,0.1526,0.0000,0.0072,0.0000])\n",
    "#print(min_sharpe(test_weights))\n",
    "cons = ({'type':'eq', 'fun':lambda x: np.sum(x)-1})\n",
    "\n",
    "#Find optimal portfolio for short/non-short\n",
    "#control bnds, x=True for short, x=False for non-short\n",
    "bnds = None\n",
    "def set_short(x):\n",
    "    global bnds\n",
    "    if (x==True):\n",
    "        bnds = None\n",
    "    else:\n",
    "        bnds =tuple((0,1)for x in range (num_of_coms))\n",
    "\n",
    "\n",
    "print(set_short(False))\n",
    "print(bnds)\n",
    "\n",
    "\n",
    "def get_opts():\n",
    "    opts = sco.minimize(min_sharpe,num_of_coms*[1./num_of_coms,],method='SLSQP', bounds=bnds, constraints=cons)\n",
    "    opts = store_data(opts)\n",
    "    return(opts)\n",
    "\n",
    "opts = get_opts()\n",
    "print(opts)"
   ]
  },
  {
   "cell_type": "code",
   "execution_count": 8,
   "metadata": {},
   "outputs": [
    {
     "name": "stdout",
     "output_type": "stream",
     "text": [
      "[  9.16817096e-02   1.13170729e-01   8.10118571e-01   5.07425150e-18\n",
      "   1.37304195e-02   1.94815227e-01   4.23449661e-01   3.48107193e-02\n",
      "   1.63517019e-01   8.11808509e-02   1.98104546e-18   2.06947399e-02\n",
      "   6.78013637e-02]\n"
     ]
    }
   ],
   "source": [
    "#Find the point with min variance\n",
    "\n",
    "def min_variance(weight):\n",
    "    return statistics(weight)[1]\n",
    "\n",
    "\n",
    "def get_optv():\n",
    "    optv = sco.minimize(min_variance,num_of_coms*[1./num_of_coms,],method='SLSQP', bounds=bnds, constraints=cons)\n",
    "    optv = store_data(optv)\n",
    "    return(optv)\n",
    "\n",
    "optv = get_optv()\n",
    "print(optv)"
   ]
  },
  {
   "cell_type": "code",
   "execution_count": 9,
   "metadata": {},
   "outputs": [
    {
     "name": "stdout",
     "output_type": "stream",
     "text": [
      "[ 0.09168171  0.09320189  0.09472207  0.09624225  0.09776243  0.09928261\n",
      "  0.10080279  0.10232297  0.10384315  0.10536333]\n"
     ]
    }
   ],
   "source": [
    "#Find points on Efficient frontier\n",
    "#Set numbers of points between optv and opts\n",
    "num = 10\n",
    "\n",
    "#Set short\n",
    "#set_short(True)\n",
    "\n",
    "def get_data_points(short_flag):\n",
    "    global target_returns, data_above_opts\n",
    "    set_short(short_flag)\n",
    "    #get optv and opts\n",
    "    opts = get_opts()\n",
    "    optv = get_optv()\n",
    "\n",
    "    #Set target data by returns\n",
    "    target_returns = np.linspace(optv[0],opts[0],num)\n",
    "    data_above_opts = np.linspace(opts[0],FER_Ser.max(),num*2)\n",
    "    #return target_returns, data_above_opts\n",
    "\n",
    "get_data_points(False)\n",
    "print(target_returns)"
   ]
  },
  {
   "cell_type": "code",
   "execution_count": 10,
   "metadata": {
    "collapsed": true
   },
   "outputs": [],
   "source": [
    "#Functionalize the optimizing process\n",
    "def optimize_targets(returns,short_flag):\n",
    "    get_data_points(short_flag)\n",
    "    target_data = np.zeros(shape=(0,3+num_of_coms))\n",
    "    for tar in returns:\n",
    "        cons = ({'type':'eq','fun':lambda x:statistics(x)[0]-tar},{'type':'eq', 'fun':lambda x: np.sum(x)-1})\n",
    "        res = sco.minimize(min_variance,num_of_coms*[1./num_of_coms,],method='SLSQP', bounds=bnds, constraints=cons)\n",
    "        res = store_data(res)\n",
    "        res = res.reshape(1,len(res))\n",
    "        target_data = np.concatenate((target_data,res))\n",
    "\n",
    "    return(target_data)\n",
    "\n",
    "#Combine data for all required points\n",
    "def get_combined_data(short_flag):\n",
    "    combined_data = np.append(np.delete(optimize_targets(target_returns,short_flag)\\\n",
    "    ,num-1,axis=0),optimize_targets(data_above_opts,short_flag),axis = 0)\n",
    "\n",
    "    return combined_data\n"
   ]
  },
  {
   "cell_type": "code",
   "execution_count": 11,
   "metadata": {
    "collapsed": true
   },
   "outputs": [],
   "source": [
    "#print(target_data)\n",
    "\n",
    "#Create dataframe 'all_data' containing Mean, SD, Slope and Weights of the points on EF\n",
    "def create_data_table(target_data):\n",
    "    ind=['Returns','Risks','Sharpe']\n",
    "    all_data = pd.DataFrame(target_data).T\n",
    "    all_data.index = ind + companies\n",
    "    all_data = all_data.rename(columns = {0:'Min Var',num-1:'Optimum'})\n",
    "    return all_data\n",
    "\n",
    "all_data = create_data_table(get_combined_data(True))\n",
    "\n",
    "\n",
    "#target_data = np.concatenate(target_data_returns, target_variance,target_sharpe)"
   ]
  },
  {
   "cell_type": "code",
   "execution_count": 12,
   "metadata": {
    "collapsed": true
   },
   "outputs": [],
   "source": [
    "#Functionalize the whole process and create two dataframes for short and non-short\n",
    "def create_table_on_short(short_flag):\n",
    "    set_short(short_flag)\n",
    "    opts = get_opts()\n",
    "    optv = get_optv()\n",
    "    target_returns = np.linspace(optv[0],opts[0],num)\n",
    "    data_above_opts = np.linspace(opts[0],FER_Ser.max(),num*2)\n",
    "    all_data = create_data_table(get_combined_data(short_flag))\n",
    "\n",
    "    return all_data\n",
    "\n",
    "short = create_table_on_short(True)\n",
    "non_short = create_table_on_short(False)\n"
   ]
  },
  {
   "cell_type": "code",
   "execution_count": null,
   "metadata": {
    "collapsed": true
   },
   "outputs": [],
   "source": []
  },
  {
   "cell_type": "code",
   "execution_count": 15,
   "metadata": {},
   "outputs": [
    {
     "data": {
      "text/plain": [
       "(0, 0.3)"
      ]
     },
     "execution_count": 15,
     "metadata": {},
     "output_type": "execute_result"
    },
    {
     "data": {
      "image/png": "[encoded data removed]",
      "text/plain": [
       "<matplotlib.figure.Figure at 0x5e6b30b080>"
      ]
     },
     "metadata": {},
     "output_type": "display_data"
    }
   ],
   "source": [
    "#Draw CAL\n",
    "#Get the sharpe ratio of the optimum point as the slope of CAL\n",
    "def draw_CAL(all_data,color):\n",
    "    CAL_slope = all_data.loc['Sharpe']['Optimum']\n",
    "    CAL = np.array([0,0.25])*CAL_slope\n",
    "    plt.plot([0,0.25],CAL,color)\n",
    "    return\n",
    "\n",
    "#plot the Efficient frontier\n",
    "def plot_EF(all_data,color):\n",
    "    plt.scatter(all_data.loc['Risks'],all_data.loc['Returns'], c = all_data.loc['Sharpe'], marker=\"x\")\n",
    "    plt.plot(all_data.loc['Risks'],all_data.loc['Returns'],'-g')\n",
    "    plt.plot(all_data.loc['Risks']['Min Var'],all_data.loc['Returns']['Min Var'],'r*',markersize = 10.0)\n",
    "    plt.plot(all_data.loc['Risks']['Optimum'],all_data.loc['Returns']['Optimum'],'r*',markersize = 10.0)\n",
    "    plt.colorbar(label=\"Sharpe ratio\")\n",
    "    draw_CAL(all_data,color)\n",
    "    return\n",
    "\n",
    "plt.figure(figsize=(8,4))\n",
    "#plt.scatter(all_SD_points,all_Mean_points, c = all_Slope_points, marker=\"o\")\n",
    "plot_EF(short,'-m')\n",
    "#plot_EF(non_short,'-b')\n",
    "plt.scatter(companies_SD,companies_MEAN, c='c', marker=\"o\")\n",
    "plt.grid(True)\n",
    "plt.xlabel(\"SD\")\n",
    "plt.ylabel(\"Mean\")\n",
    "plt.ylim([0, 0.2])\n",
    "plt.xlim([0, 0.3])\n",
    "\n"
   ]
  },
  {
   "cell_type": "code",
   "execution_count": null,
   "metadata": {
    "collapsed": true
   },
   "outputs": [],
   "source": []
  },
  {
   "cell_type": "code",
   "execution_count": null,
   "metadata": {
    "collapsed": true
   },
   "outputs": [],
   "source": [
    "#apply indifference curve\n",
    "#input risk aversion coefficient\n",
    "A = input(\"Insert your risk aversion coefficient:\")\n",
    "\n"
   ]
  },
  {
   "cell_type": "code",
   "execution_count": null,
   "metadata": {
    "collapsed": true
   },
   "outputs": [],
   "source": []
  },
  {
   "cell_type": "code",
   "execution_count": null,
   "metadata": {
    "collapsed": true
   },
   "outputs": [],
   "source": []
  }
 ],
 "metadata": {
  "kernelspec": {
   "display_name": "Python 3",
   "language": "python",
   "name": "python3"
  },
  "language_info": {
   "codemirror_mode": {
    "name": "ipython",
    "version": 3
   },
   "file_extension": ".py",
   "mimetype": "text/x-python",
   "name": "python",
   "nbconvert_exporter": "python",
   "pygments_lexer": "ipython3",
   "version": "3.6.1"
  }
 },
 "nbformat": 4,
 "nbformat_minor": 2
}
