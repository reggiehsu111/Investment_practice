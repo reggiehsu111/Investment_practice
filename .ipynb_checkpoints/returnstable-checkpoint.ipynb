{
 "cells": [
  {
   "cell_type": "code",
   "execution_count": 129,
   "metadata": {},
   "outputs": [],
   "source": [
    "import io\n",
    "with open('returns.txt','r',encoding = 'utf-16') as f:\n",
    "    string = f.read()\n",
    "string.encode('utf-8').decode('utf-8')\n",
    "\n",
    "with open('mb64.txt','r',encoding = 'utf-16') as fmb64:\n",
    "    string1 = fmb64.read()\n",
    "string1.encode('utf-8').decode('utf-8')\n",
    "string1 = string1.replace('\\t',',')\n",
    "string = string.replace('\\t',',')\n",
    "\n",
    "with open('mb64.csv','w',encoding = 'utf-8') as fmb641:\n",
    "    fmb641.write(string1)\n",
    "\n",
    "with open('returns1.csv','w',encoding = 'utf-8') as f1:\n",
    "    f1.write(string)"
   ]
  },
  {
   "cell_type": "code",
   "execution_count": 135,
   "metadata": {},
   "outputs": [],
   "source": [
    "import pandas as pd\n",
    "import numpy as np\n",
    "\n",
    "# Create a table \"excess_return\" by subtacting mb64 from returnstable\n",
    "mb64 = pd.read_csv(\"mb64.csv\")\n",
    "mb64.columns = ['dates','mb64']\n",
    "del mb64['dates']\n",
    "mb64 = mb64.apply(pd.to_numeric, errors = 'coerce')\n",
    "mb64 = mb64/12\n",
    "\n",
    "returnstable = pd.read_csv(\"returns1.csv\") \n",
    "returnstable = returnstable.join(mb64)\n",
    "\n",
    "returnstable = returnstable.drop(returnstable.index[0])\n",
    "returnstable.rename(columns=lambda x: x[0:4], inplace=True)\n",
    "returnstable.set_index('Unna', inplace=True)\n",
    "\n",
    "returnstable.rename(index=lambda x:x.split('/')[0]+'-'+x.split('/')[1], inplace=True)\n",
    "returnstable = returnstable.apply(pd.to_numeric, errors = 'coerce')\n",
    "\n",
    "excess_return = returnstable.subtract(returnstable['mb64'], axis=0)/100\n",
    "del excess_return['mb64']\n",
    "\n",
    "from_date='2010-1'\n",
    "to_date='2014-12'\n"
   ]
  },
  {
   "cell_type": "code",
   "execution_count": 136,
   "metadata": {
    "collapsed": true
   },
   "outputs": [],
   "source": [
    "#input format: list[,,,], string,string\n",
    "def find_company_returns(companies,from_date,to_date):\n",
    "    df = excess_return[companies].loc[from_date:to_date]\n",
    "    return df\n",
    "\n",
    "companies = ['1201','1460']\n",
    "company_returns = find_company_returns(companies,from_date,to_date)"
   ]
  },
  {
   "cell_type": "code",
   "execution_count": 137,
   "metadata": {
    "scrolled": true
   },
   "outputs": [
    {
     "name": "stdout",
     "output_type": "stream",
     "text": [
      "          1201      1460\n",
      "1201  0.010065  0.002697\n",
      "1460  0.002697  0.011173\n"
     ]
    }
   ],
   "source": [
    "#build the Markowitz table\n",
    "Markowitz = company_returns.cov()\n",
    "print (Markowitz)\n",
    "\n",
    "weights = pd.Series()\n"
   ]
  },
  {
   "cell_type": "code",
   "execution_count": null,
   "metadata": {
    "collapsed": true
   },
   "outputs": [],
   "source": []
  },
  {
   "cell_type": "code",
   "execution_count": null,
   "metadata": {
    "collapsed": true
   },
   "outputs": [],
   "source": []
  }
 ],
 "metadata": {
  "kernelspec": {
   "display_name": "Python 3",
   "language": "python",
   "name": "python3"
  },
  "language_info": {
   "codemirror_mode": {
    "name": "ipython",
    "version": 3
   },
   "file_extension": ".py",
   "mimetype": "text/x-python",
   "name": "python",
   "nbconvert_exporter": "python",
   "pygments_lexer": "ipython3",
   "version": "3.6.1"
  }
 },
 "nbformat": 4,
 "nbformat_minor": 2
}
