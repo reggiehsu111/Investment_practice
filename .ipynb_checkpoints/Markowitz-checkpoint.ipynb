{
 "cells": [
  {
   "cell_type": "code",
   "execution_count": 2,
   "metadata": {
    "collapsed": true
   },
   "outputs": [],
   "source": [
    "%matplotlib inline\n",
    "import scipy.optimize as sco\n",
    "import math\n",
    "import pandas as pd\n",
    "import numpy as np\n",
    "import matplotlib.pyplot as plt\n",
    "\n"
   ]
  },
  {
   "cell_type": "code",
   "execution_count": 3,
   "metadata": {
    "collapsed": true
   },
   "outputs": [],
   "source": [
    "with open('returns.txt','r',encoding = 'utf-16') as f:\n",
    "    string = f.read()\n",
    "string.encode('utf-8').decode('utf-8')\n",
    "\n",
    "with open('mb64.txt','r',encoding = 'utf-16') as fmb64:\n",
    "    string1 = fmb64.read()\n",
    "string1.encode('utf-8').decode('utf-8')\n",
    "string1 = string1.replace('\\t',',')\n",
    "string = string.replace('\\t',',')\n",
    "\n",
    "with open('mb64.csv','w',encoding = 'utf-8') as fmb641:\n",
    "    fmb641.write(string1)\n",
    "\n",
    "with open('returns1.csv','w',encoding = 'utf-8') as f1:\n",
    "    f1.write(string)"
   ]
  },
  {
   "cell_type": "code",
   "execution_count": 4,
   "metadata": {
    "collapsed": true
   },
   "outputs": [],
   "source": [
    "# Create a table \"excess_return\" by subtacting mb64 from returnstable\n",
    "def get_excess_return():\n",
    "    mb64 = pd.read_csv(\"mb64.csv\")\n",
    "    mb64.columns = ['dates','mb64']\n",
    "    del mb64['dates']\n",
    "    mb64 = mb64.apply(pd.to_numeric, errors = 'coerce')\n",
    "    mb64 = mb64/12\n",
    "\n",
    "    returnstable = pd.read_csv(\"returns1.csv\") \n",
    "    returnstable = returnstable.join(mb64)\n",
    "\n",
    "    returnstable = returnstable.drop(returnstable.index[0])\n",
    "    returnstable.rename(columns=lambda x: x[0:4], inplace=True)\n",
    "    returnstable.set_index('Unna', inplace=True)\n",
    "\n",
    "    returnstable.rename(index=lambda x:x.split('/')[0]+'-'+x.split('/')[1], inplace=True)\n",
    "    returnstable = returnstable.apply(pd.to_numeric, errors = 'coerce')\n",
    "\n",
    "    excess_return = returnstable.subtract(returnstable['mb64'], axis=0)/100\n",
    "    del excess_return['mb64']\n",
    "    del returnstable\n",
    "    return excess_return\n",
    "\n",
    "\n",
    "\n"
   ]
  },
  {
   "cell_type": "code",
   "execution_count": 6,
   "metadata": {
    "collapsed": true
   },
   "outputs": [],
   "source": [
    "#input format: list[,,,], string,string\n",
    "def Insert_request_data():\n",
    "    comp_str = input(\"Input required companies:\")\n",
    "    company = comp_str.split(',')\n",
    "    from_date = input(\"Input From date:\")\n",
    "    to_date = input(\"Input To date:\")\n",
    "    return company, from_date, to_date\n",
    "\n",
    "#companies,from_date,to_date = Insert_request_data()\n",
    "\n",
    "\n",
    "#should create a function of parsing input companies and dates into list\n",
    "def find_company_returns(companies,from_date,to_date):\n",
    "    excess_return = get_excess_return()\n",
    "    df = excess_return[companies].loc[from_date:to_date]\n",
    "    del excess_return\n",
    "    return df\n",
    "\n",
    "companies = ['1201','1460','2010','2330','2489','2608','2889','3514','5522','9904']\n",
    "from_date='2010-1'\n",
    "to_date='2014-12'\n",
    "#assign the numbers of companies to the variable num_of_coms\n",
    "num_of_coms = len(companies)\n",
    "company_returns = find_company_returns(companies,from_date,to_date)"
   ]
  },
  {
   "cell_type": "code",
   "execution_count": 38,
   "metadata": {
    "scrolled": true
   },
   "outputs": [
    {
     "name": "stdout",
     "output_type": "stream",
     "text": [
      "0.07600252045960788 0.150425322647 0.505250838904\n"
     ]
    }
   ],
   "source": [
    "#build the Markowitz table\n",
    "\n",
    "#input forecasted excess return\n",
    "\"\"\"raw_FER = input(\"Input forecasted excess return:\")\n",
    "FER = list(raw_FER.split(',')[:])\n",
    "FER = list(map(float, FER))\n",
    "print(FER)\"\"\"\n",
    "\n",
    "#preset forecasted excess return (development use)\n",
    "FER = [0.03,0.08,0.09,0.1,0.15,0.06,0.12,0.05,0.09,0.06]\n",
    "FER_Ser = pd.Series(FER)\n",
    "\n",
    "def create_random_weights():\n",
    "    weights = np.random.random(num_of_coms)\n",
    "    weights /= np.sum(weights)\n",
    "    weights = pd.Series(weights,index=companies)\n",
    "    return weights\n",
    "\n",
    "Markowitz = company_returns.cov()*12\n",
    "\n",
    "\n",
    "#Create companies_SD\n",
    "companies_SD = np.zeros((len(companies)))\n",
    "for i in range(len(companies)):\n",
    "    companies_SD[i] = np.sqrt(Markowitz.iloc[i][i])\n",
    "#print(companies_SD)\n",
    "\n",
    "#Store FER_Ser in comapnies_MEAN\n",
    "companies_MEAN = FER_Ser\n",
    "\n",
    "\n",
    "def assign_random_weight(weights):\n",
    "    #x = Markowitz.mul(weights, axis=0).sum()\n",
    "    #x = x.mul(weights, axis=0)\n",
    "    SD = np.sqrt(np.dot(weights.T,np.dot(Markowitz,weights)))\n",
    "    Mean = weights.mul(FER,axis=0).sum()\n",
    "    #SD = math.sqrt(x.sum())\n",
    "    Slope = Mean/SD\n",
    "    return Mean,SD,Slope\n",
    "\n",
    "Mean,SD,Slope = assign_random_weight(weights)\n",
    "print(Mean,SD,Slope)\n"
   ]
  },
  {
   "cell_type": "code",
   "execution_count": 30,
   "metadata": {
    "scrolled": true
   },
   "outputs": [
    {
     "data": {
      "text/plain": [
       "'plt.figure(figsize=(8,4))\\nplt.scatter(all_SD_points,all_Mean_points, c = all_Slope_points, marker=\"o\")\\nplt.grid(True)\\nplt.xlabel(\"SD\")\\nplt.ylabel(\"Mean\")\\nplt.ylim([0, 0.2])\\nplt.xlim([0, 0.3])\\nplt.colorbar(label=\"Sharpe ratio\")'"
      ]
     },
     "execution_count": 30,
     "metadata": {},
     "output_type": "execute_result"
    }
   ],
   "source": [
    "#create points of portfolios\n",
    "all_Mean_points=[]\n",
    "all_SD_points=[]\n",
    "all_Slope_points=[]\n",
    "for p in range(4000):\n",
    "    weights = create_random_weights()\n",
    "    Mean,SD,Slope = assign_random_weight(weights)\n",
    "    all_Mean_points.append(Mean)\n",
    "    all_SD_points.append(SD)\n",
    "    all_Slope_points.append(Slope)\n",
    "\n",
    "all_Mean_points=pd.Series(all_Mean_points)\n",
    "all_SD_points=pd.Series(all_SD_points)\n",
    "all_Slope_points=pd.Series(all_Slope_points)\n",
    "\n",
    "\n",
    "#data = pd.concat([all_Mean_points,all_SD_points],axis=1)\n",
    "#print(data)\n",
    "\"\"\"plt.figure(figsize=(8,4))\n",
    "plt.scatter(all_SD_points,all_Mean_points, c = all_Slope_points, marker=\"o\")\n",
    "plt.grid(True)\n",
    "plt.xlabel(\"SD\")\n",
    "plt.ylabel(\"Mean\")\n",
    "plt.ylim([0, 0.2])\n",
    "plt.xlim([0, 0.3])\n",
    "plt.colorbar(label=\"Sharpe ratio\")\"\"\"\n"
   ]
  },
  {
   "cell_type": "markdown",
   "metadata": {
    "collapsed": true
   },
   "source": []
  },
  {
   "cell_type": "code",
   "execution_count": 75,
   "metadata": {},
   "outputs": [
    {
     "name": "stdout",
     "output_type": "stream",
     "text": [
      "None\n",
      "((0, 1), (0, 1), (0, 1), (0, 1), (0, 1), (0, 1), (0, 1), (0, 1), (0, 1), (0, 1))\n",
      "[  1.05363332e-01   1.20520835e-01   8.74233338e-01   0.00000000e+00\n",
      "   4.53672552e-17   1.17864844e-01   4.26356037e-01   1.71015852e-01\n",
      "   1.24767294e-01   1.52727975e-01   3.07122353e-17   7.26799876e-03\n",
      "   0.00000000e+00]\n"
     ]
    }
   ],
   "source": [
    "def statistics(weight):\n",
    "    weight = np.array(weight)\n",
    "    Mean = np.sum(weight*FER)\n",
    "    x = Markowitz.mul(weight, axis=0).sum()\n",
    "    x = x.mul(weight, axis=0)\n",
    "    SD = math.sqrt(x.sum())\n",
    "    #print(SD)\n",
    "    #SD = np.sqrt(np.dot(weight.T, np.dot(Markowitz,weights)))\n",
    "    Sharpe_ratio = Mean/SD\n",
    "    return np.array([Mean,SD,Sharpe_ratio])\n",
    "\n",
    "#Find the optimal point with max Sharpe Ratio\n",
    "def min_sharpe(weight):\n",
    "    return -statistics(weight)[2]\n",
    "\n",
    "#Store datapoints stats\n",
    "def store_data(data):\n",
    "    arr = np.array(list(statistics(data['x']))+list(data['x']))\n",
    "    return arr\n",
    "\n",
    "#test_weights = np.array([0.0000,0.0000,0.1183,0.4262,0.1710,0.1246,0.1526,0.0000,0.0072,0.0000])\n",
    "#print(min_sharpe(test_weights))\n",
    "cons = ({'type':'eq', 'fun':lambda x: np.sum(x)-1})\n",
    "\n",
    "#Find optimal portfolio for short/non-short\n",
    "#control bnds, x=True for short, x=False for non-short\n",
    "bnds = None\n",
    "def set_short(x):\n",
    "    global bnds\n",
    "    if (x==True):\n",
    "        bnds = None\n",
    "    else:\n",
    "        bnds =tuple((0,1)for x in range (num_of_coms))\n",
    "\n",
    "\n",
    "print(set_short(False))\n",
    "print(bnds)\n",
    "\n",
    "\n",
    "def get_opts():\n",
    "    opts = sco.minimize(min_sharpe,num_of_coms*[1./num_of_coms,],method='SLSQP', bounds=bnds, constraints=cons)\n",
    "    opts = store_data(opts)\n",
    "    return(opts)\n",
    "\n",
    "opts = get_opts()\n",
    "print(opts)"
   ]
  },
  {
   "cell_type": "code",
   "execution_count": 76,
   "metadata": {},
   "outputs": [
    {
     "name": "stdout",
     "output_type": "stream",
     "text": [
      "[  9.16817096e-02   1.13170729e-01   8.10118571e-01   5.07425150e-18\n",
      "   1.37304195e-02   1.94815227e-01   4.23449661e-01   3.48107193e-02\n",
      "   1.63517019e-01   8.11808509e-02   1.98104546e-18   2.06947399e-02\n",
      "   6.78013637e-02]\n"
     ]
    }
   ],
   "source": [
    "#Find the point with min variance\n",
    "\n",
    "def min_variance(weight):\n",
    "    return statistics(weight)[1]\n",
    "\n",
    "\n",
    "def get_optv():\n",
    "    optv = sco.minimize(min_variance,num_of_coms*[1./num_of_coms,],method='SLSQP', bounds=bnds, constraints=cons)\n",
    "    optv = store_data(optv)\n",
    "    return(optv)\n",
    "\n",
    "optv = get_optv()\n",
    "print(optv)"
   ]
  },
  {
   "cell_type": "code",
   "execution_count": 139,
   "metadata": {},
   "outputs": [],
   "source": [
    "#Find points on Efficient frontier\n",
    "#Set numbers of points between optv and opts\n",
    "num = 10\n",
    "\n",
    "#Set short\n",
    "#set_short(True)\n",
    "\n",
    "def get_data_points(short_flag):\n",
    "    global target_returns, data_above_opts\n",
    "    set_short(short_flag)\n",
    "    #get optv and opts\n",
    "    opts = get_opts()\n",
    "    optv = get_optv()\n",
    "\n",
    "    #Set target data by returns\n",
    "    target_returns = np.linspace(optv[0],opts[0],num)\n",
    "    data_above_opts = np.linspace(opts[0],FER_Ser.max(),num*2)\n",
    "    #return target_returns, data_above_opts\n",
    "\n",
    "#get_data_points(False)\n",
    "#print(target_returns)"
   ]
  },
  {
   "cell_type": "code",
   "execution_count": 142,
   "metadata": {},
   "outputs": [
    {
     "name": "stdout",
     "output_type": "stream",
     "text": [
      "[[  9.16817096e-02   1.12386263e-01   8.15773274e-01  -3.32431114e-02\n",
      "    2.46576275e-02   2.16277469e-01   4.14731719e-01   1.34319151e-02\n",
      "    1.65345894e-01   7.64087608e-02  -9.49324496e-03   4.08446814e-02\n",
      "    9.10382896e-02]\n",
      " [  9.32018899e-02   1.12098457e-01   8.31428839e-01  -3.94821111e-02\n",
      "    2.34421673e-02   2.17188586e-01   4.14577818e-01   2.27752743e-02\n",
      "    1.62364424e-01   8.26142520e-02  -1.24588008e-02   4.39531692e-02\n",
      "    8.50252212e-02]\n",
      " [  9.47220701e-02   1.11916706e-01   8.46362207e-01  -4.57235156e-02\n",
      "    2.22242196e-02   2.18103484e-01   4.14423039e-01   3.21197514e-02\n",
      "    1.59391118e-01   8.88194919e-02  -1.54244584e-02   4.70554151e-02\n",
      "    7.90114545e-02]\n",
      " [  9.62422504e-02   1.11841529e-01   8.60523378e-01  -5.19663869e-02\n",
      "    2.10041355e-02   2.19021073e-01   4.14268105e-01   4.14659415e-02\n",
      "    1.56423092e-01   9.50218828e-02  -1.83906771e-02   5.01555065e-02\n",
      "    7.29973276e-02]\n",
      " [  9.77624306e-02   1.11873143e-01   8.73868633e-01  -5.82097571e-02\n",
      "    1.97828477e-02   2.19939786e-01   4.14113135e-01   5.08142311e-02\n",
      "    1.53457562e-01   1.01219879e-01  -2.13575282e-02   5.32571044e-02\n",
      "    6.69827394e-02]\n",
      " [  9.92826109e-02   1.12011459e-01   8.86361194e-01  -6.44528798e-02\n",
      "    1.85614442e-02   2.20858082e-01   4.13958028e-01   6.01647374e-02\n",
      "    1.50492500e-01   1.07412848e-01  -2.43249059e-02   5.63628577e-02\n",
      "    6.09672883e-02]\n",
      " [  1.00802791e-01   1.12256084e-01   8.97971737e-01  -7.06952593e-02\n",
      "    1.73409167e-02   2.21774723e-01   4.13802744e-01   6.95173611e-02\n",
      "    1.47526787e-01   1.13600774e-01  -2.72927005e-02   5.94742535e-02\n",
      "    5.49503993e-02]\n",
      " [  1.02322971e-01   1.12606326e-01   9.08678712e-01  -7.69366268e-02\n",
      "    1.61220863e-02   2.22688953e-01   4.13647371e-01   7.88718566e-02\n",
      "    1.44560072e-01   1.19784001e-01  -3.02608923e-02   6.25917132e-02\n",
      "    4.89314660e-02]\n",
      " [  1.03843152e-01   1.13061204e-01   9.18468479e-01  -8.31769028e-02\n",
      "    1.49056151e-02   2.23600416e-01   4.13492087e-01   8.82279283e-02\n",
      "    1.41592600e-01   1.25963012e-01  -3.32296036e-02   6.57148663e-02\n",
      "    4.29099806e-02]\n",
      " [  1.21647962e-01   1.25553522e-01   9.68893262e-01  -1.56133457e-01\n",
      "    2.26453344e-04   2.34975744e-01   4.11605453e-01   1.98201704e-01\n",
      "    1.06811118e-01   1.98179670e-01  -6.79846920e-02   1.01238596e-01\n",
      "   -2.71205896e-02]\n",
      " [  1.23140174e-01   1.27131370e-01   9.68605733e-01  -1.62265798e-01\n",
      "   -9.56437944e-04   2.35866642e-01   4.11473397e-01   2.07413342e-01\n",
      "    1.03897670e-01   2.04186163e-01  -7.09038145e-02   1.04299503e-01\n",
      "   -3.30106671e-02]\n",
      " [  1.24632387e-01   1.28779299e-01   9.67798304e-01  -1.68400600e-01\n",
      "   -2.13389510e-03   2.36755048e-01   4.11343406e-01   2.16624599e-01\n",
      "    1.00988539e-01   2.10189804e-01  -7.38257678e-02   1.07359971e-01\n",
      "   -3.89011028e-02]\n",
      " [  1.26124599e-01   1.30493912e-01   9.66517117e-01  -1.74379518e-01\n",
      "   -3.77460703e-03   2.38642336e-01   4.11156923e-01   2.25693745e-01\n",
      "    9.76046566e-02   2.16560875e-01  -7.67734716e-02   1.09644487e-01\n",
      "   -4.43754263e-02]\n",
      " [  1.27616812e-01   1.32274014e-01   9.64791253e-01  -1.80513389e-01\n",
      "   -4.98236763e-03   2.39536170e-01   4.11036822e-01   2.34905087e-01\n",
      "    9.46763435e-02   2.22569722e-01  -7.96773150e-02   1.12702842e-01\n",
      "   -5.02539140e-02]\n",
      " [  1.29109024e-01   1.34116339e-01   9.62664396e-01  -1.86648776e-01\n",
      "   -6.18531110e-03   2.40424883e-01   4.10919958e-01   2.44117082e-01\n",
      "    9.17522820e-02   2.28574131e-01  -8.25826401e-02   1.15763692e-01\n",
      "   -5.61353018e-02]\n",
      " [  1.30601237e-01   1.36018358e-01   9.60173606e-01  -1.92786181e-01\n",
      "   -7.38347922e-03   2.41309954e-01   4.10806154e-01   2.53329272e-01\n",
      "    8.88325831e-02   2.34574663e-01  -8.54898079e-02   1.18825465e-01\n",
      "   -6.20186229e-02]\n",
      " [  1.32093449e-01   1.37977601e-01   9.57354297e-01  -1.98926108e-01\n",
      "   -8.57719070e-03   2.42192863e-01   4.10695196e-01   2.62541146e-01\n",
      "    8.59172138e-02   2.40572084e-01  -8.83989782e-02   1.21886607e-01\n",
      "   -6.79028340e-02]\n",
      " [  1.33585662e-01   1.39991667e-01   9.54240098e-01  -2.05069070e-01\n",
      "   -9.76697298e-03   2.43074968e-01   4.10586940e-01   2.71752192e-01\n",
      "    8.30060143e-02   2.46567204e-01  -9.13100969e-02   1.24945741e-01\n",
      "   -7.37869198e-02]\n",
      " [  1.35077875e-01   1.42057484e-01   9.50867708e-01  -2.10978237e-01\n",
      "   -1.13133695e-02   2.45299880e-01   4.10254898e-01   2.80600456e-01\n",
      "    7.94043633e-02   2.53061615e-01  -9.43784409e-02   1.27469338e-01\n",
      "   -7.94205021e-02]\n",
      " [  1.36570087e-01   1.44174232e-01   9.47257252e-01  -2.17103658e-01\n",
      "   -1.25329205e-02   2.46183172e-01   4.10149906e-01   2.89809136e-01\n",
      "    7.64694448e-02   2.59077949e-01  -9.72773455e-02   1.30529056e-01\n",
      "   -8.53047405e-02]\n",
      " [  1.38062300e-01   1.46339036e-01   9.43441366e-01  -2.23230702e-01\n",
      "   -1.37483347e-02   2.47060017e-01   4.10047704e-01   2.99019920e-01\n",
      "    7.35392615e-02   2.65089036e-01  -1.00177292e-01   1.33590956e-01\n",
      "   -9.11905661e-02]\n",
      " [  1.39554512e-01   1.48549793e-01   9.39446021e-01  -2.29359868e-01\n",
      "   -1.49597880e-02   2.47932438e-01   4.09948151e-01   3.08232191e-01\n",
      "    7.06135617e-02   2.71095357e-01  -1.03078611e-01   1.36653600e-01\n",
      "   -9.70770310e-02]\n",
      " [  1.41046725e-01   1.50804484e-01   9.35295298e-01  -2.35491558e-01\n",
      "   -1.61676575e-02   2.48802472e-01   4.09851083e-01   3.17445171e-01\n",
      "    6.76918872e-02   2.77097719e-01  -1.05981510e-01   1.39715668e-01\n",
      "   -1.02963274e-01]\n",
      " [  1.42538937e-01   1.53101166e-01   9.31011443e-01  -2.41626032e-01\n",
      "   -1.73725560e-02   2.49672153e-01   4.09756381e-01   3.26658075e-01\n",
      "    6.47736022e-02   2.83097047e-01  -1.08886026e-01   1.42775925e-01\n",
      "   -1.08848569e-01]\n",
      " [  1.44031150e-01   1.55437977e-01   9.26614927e-01  -2.47763406e-01\n",
      "   -1.85753098e-02   2.50543389e-01   4.09663952e-01   3.35870101e-01\n",
      "    6.18579189e-02   2.89094364e-01  -1.11792051e-01   1.45833421e-01\n",
      "   -1.14732379e-01]\n",
      " [  1.45523362e-01   1.57813134e-01   9.22124530e-01  -2.53903711e-01\n",
      "   -1.97766699e-02   2.51417580e-01   4.09573752e-01   3.45080607e-01\n",
      "    5.89441742e-02   2.95090551e-01  -1.14699373e-01   1.48887516e-01\n",
      "   -1.20614427e-01]\n",
      " [  1.47015575e-01   1.60224049e-01   9.17562476e-01  -2.59660430e-01\n",
      "   -2.12252687e-02   2.54072113e-01   4.08906407e-01   3.53851062e-01\n",
      "    5.51611877e-02   3.01638571e-01  -1.17935913e-01   1.51585958e-01\n",
      "   -1.26393686e-01]\n",
      " [  1.48507787e-01   1.62670828e-01   9.12934355e-01  -2.65764707e-01\n",
      "   -2.24390927e-02   2.54938053e-01   4.08813096e-01   3.63069025e-01\n",
      "    5.22200653e-02   3.07647691e-01  -1.20850463e-01   1.54646142e-01\n",
      "   -1.32279810e-01]\n",
      " [  1.50000000e-01   1.65151065e-01   9.08259357e-01  -2.71871607e-01\n",
      "   -2.36492979e-02   2.55801097e-01   4.08723593e-01   3.72288167e-01\n",
      "    4.92829412e-02   3.13651352e-01  -1.23767037e-01   1.57705821e-01\n",
      "   -1.38165029e-01]]\n"
     ]
    }
   ],
   "source": [
    "#Functionalize the optimizing process\n",
    "def optimize_targets(returns,short_flag):\n",
    "    get_data_points(short_flag)\n",
    "    target_data = np.zeros(shape=(0,3+num_of_coms))\n",
    "    for tar in returns:\n",
    "        cons = ({'type':'eq','fun':lambda x:statistics(x)[0]-tar},{'type':'eq', 'fun':lambda x: np.sum(x)-1})\n",
    "        res = sco.minimize(min_variance,num_of_coms*[1./num_of_coms,],method='SLSQP', bounds=bnds, constraints=cons)\n",
    "        res = store_data(res)\n",
    "        res = res.reshape(1,len(res))\n",
    "        target_data = np.concatenate((target_data,res))\n",
    "\n",
    "    return(target_data)\n",
    "\n",
    "#Combine data for all required points\n",
    "def get_combined_data(short_flag):\n",
    "    combined_data = np.append(np.delete(optimize_targets(target_returns,short_flag)\\\n",
    "    ,num-1,axis=0),optimize_targets(data_above_opts,short_flag),axis = 0)\n",
    "\n",
    "    return combined_data\n"
   ]
  },
  {
   "cell_type": "code",
   "execution_count": 145,
   "metadata": {},
   "outputs": [],
   "source": [
    "#print(target_data)\n",
    "\n",
    "#Create dataframe 'all_data' containing Mean, SD, Slope and Weights of the points on EF\n",
    "def create_data_table(target_data):\n",
    "    ind=['Returns','Risks','Sharpe']\n",
    "    all_data = pd.DataFrame(target_data).T\n",
    "    all_data.index = ind + companies\n",
    "    all_data = all_data.rename(columns = {0:'Min Var',num-1:'Optimum'})\n",
    "    return all_data\n",
    "\n",
    "all_data = create_data_table(get_combined_data(True))\n",
    "\n",
    "\n",
    "#target_data = np.concatenate(target_data_returns, target_variance,target_sharpe)"
   ]
  },
  {
   "cell_type": "code",
   "execution_count": 150,
   "metadata": {},
   "outputs": [],
   "source": [
    "#Functionalize the whole process and create two dataframes for short and non-short\n",
    "def create_table_on_short(short_flag):\n",
    "    set_short(short_flag)\n",
    "    opts = get_opts()\n",
    "    optv = get_optv()\n",
    "    target_returns = np.linspace(optv[0],opts[0],num)\n",
    "    data_above_opts = np.linspace(opts[0],FER_Ser.max(),num*2)\n",
    "    all_data = create_data_table(get_combined_data(short_flag))\n",
    "\n",
    "    return all_data\n",
    "\n",
    "short = create_table_on_short(True)\n",
    "non_short = create_table_on_short(False)\n"
   ]
  },
  {
   "cell_type": "code",
   "execution_count": null,
   "metadata": {
    "collapsed": true
   },
   "outputs": [],
   "source": []
  },
  {
   "cell_type": "code",
   "execution_count": 151,
   "metadata": {},
   "outputs": [
    {
     "data": {
      "text/plain": [
       "(0, 0.3)"
      ]
     },
     "execution_count": 151,
     "metadata": {},
     "output_type": "execute_result"
    },
    {
     "data": {
      "image/png": "[encoded data removed]",
      "text/plain": [
       "<matplotlib.figure.Figure at 0x2f6a5e1588>"
      ]
     },
     "metadata": {},
     "output_type": "display_data"
    }
   ],
   "source": [
    "#Draw CAL\n",
    "#Get the sharpe ratio of the optimum point as the slope of CAL\n",
    "def draw_CAL(all_data,color):\n",
    "    CAL_slope = all_data.loc['Sharpe']['Optimum']\n",
    "    CAL = np.array([0,0.25])*CAL_slope\n",
    "    plt.plot([0,0.25],CAL,color)\n",
    "    return\n",
    "\n",
    "#plot the Efficient frontier\n",
    "def plot_EF(all_data,color):\n",
    "    plt.scatter(all_data.loc['Risks'],all_data.loc['Returns'], c = all_data.loc['Sharpe'], marker=\"x\")\n",
    "    plt.plot(all_data.loc['Risks'],all_data.loc['Returns'],'-g')\n",
    "    plt.plot(all_data.loc['Risks']['Min Var'],all_data.loc['Returns']['Min Var'],'r*',markersize = 10.0)\n",
    "    plt.plot(all_data.loc['Risks']['Optimum'],all_data.loc['Returns']['Optimum'],'r*',markersize = 10.0)\n",
    "    plt.colorbar(label=\"Sharpe ratio\")\n",
    "    draw_CAL(all_data,color)\n",
    "    return\n",
    "\n",
    "plt.figure(figsize=(8,4))\n",
    "#plt.scatter(all_SD_points,all_Mean_points, c = all_Slope_points, marker=\"o\")\n",
    "plot_EF(short,'-m')\n",
    "plot_EF(non_short,'-b')\n",
    "plt.scatter(companies_SD,companies_MEAN, c='c', marker=\"o\")\n",
    "plt.grid(True)\n",
    "plt.xlabel(\"SD\")\n",
    "plt.ylabel(\"Mean\")\n",
    "plt.ylim([0, 0.2])\n",
    "plt.xlim([0, 0.3])\n",
    "\n"
   ]
  },
  {
   "cell_type": "code",
   "execution_count": null,
   "metadata": {
    "collapsed": true
   },
   "outputs": [],
   "source": []
  },
  {
   "cell_type": "code",
   "execution_count": 203,
   "metadata": {},
   "outputs": [
    {
     "name": "stdout",
     "output_type": "stream",
     "text": [
      "Insert your risk aversion coefficient:2\n"
     ]
    }
   ],
   "source": [
    "#apply indifference curve\n",
    "#input risk aversion coefficient\n",
    "A = input(\"Insert your risk aversion coefficient:\")\n",
    "\n"
   ]
  },
  {
   "cell_type": "code",
   "execution_count": 16,
   "metadata": {},
   "outputs": [
    {
     "name": "stdout",
     "output_type": "stream",
     "text": [
      "5\n",
      "[0, 1, 1, 2, 3, 5]\n"
     ]
    }
   ],
   "source": []
  },
  {
   "cell_type": "code",
   "execution_count": null,
   "metadata": {
    "collapsed": true
   },
   "outputs": [],
   "source": []
  }
 ],
 "metadata": {
  "kernelspec": {
   "display_name": "Python 3",
   "language": "python",
   "name": "python3"
  },
  "language_info": {
   "codemirror_mode": {
    "name": "ipython",
    "version": 3
   },
   "file_extension": ".py",
   "mimetype": "text/x-python",
   "name": "python",
   "nbconvert_exporter": "python",
   "pygments_lexer": "ipython3",
   "version": "3.6.1"
  }
 },
 "nbformat": 4,
 "nbformat_minor": 2
}
